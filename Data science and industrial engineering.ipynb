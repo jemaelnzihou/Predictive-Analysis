{
 "cells": [
  {
   "cell_type": "markdown",
   "id": "af5b2b4e",
   "metadata": {},
   "source": [
    "Data science and industrial engineering are closely related fields, as both focus on optimizing processes, improving efficiency, and making data-driven decisions. Here’s how they intersect:  \n",
    "\n",
    "### **1. Optimization & Decision-Making**  \n",
    "- Industrial engineers use optimization techniques (e.g., linear programming, simulation) to improve systems.  \n",
    "- Data science enhances this by using machine learning (ML) and predictive analytics to make smarter decisions.  \n",
    "\n",
    "### **2. Process Improvement & Lean Six Sigma**  \n",
    "- Industrial engineers apply Lean Six Sigma to reduce waste and improve quality.  \n",
    "- Data science can automate defect detection, forecast failures, and optimize production schedules using AI and statistical models.  \n",
    "\n",
    "### **3. Predictive & Prescriptive Analytics**  \n",
    "- Industrial engineers use historical data for forecasting and decision-making.  \n",
    "- Data science applies techniques like time series forecasting (ARIMA, Prophet) and prescriptive analytics to recommend actions.  \n",
    "\n",
    "### **4. Supply Chain & Logistics**  \n",
    "- Industrial engineers optimize supply chain operations using heuristics and simulations.  \n",
    "- Data science improves demand forecasting, inventory management, and route optimization using ML models.  \n",
    "\n",
    "### **5. Reliability & Quality Engineering**  \n",
    "- Industrial engineers analyze system reliability and product quality.  \n",
    "- Data science applies anomaly detection, predictive maintenance, and deep learning for defect detection.  \n",
    "\n",
    "### **6. Human Factors & Ergonomics**  \n",
    "- Industrial engineers design efficient human-machine interactions.  \n",
    "- Data science enhances this with computer vision, IoT, and NLP to monitor workplace safety and automate tasks.  \n",
    "\n",
    "Given your experience with **Lean Six Sigma, process engineering, and business analytics**, data science can help you optimize aerospace, manufacturing, and defense-related industrial systems with predictive analytics, optimization, and AI-driven decision-making. "
   ]
  },
  {
   "cell_type": "markdown",
   "id": "9773640d",
   "metadata": {},
   "source": [
    "### Let's consider a **predictive maintenance** use case in industrial engineering using Python."
   ]
  },
  {
   "cell_type": "markdown",
   "id": "5e2d7fe4",
   "metadata": {},
   "source": [
    "### **Scenario**  \n",
    "A manufacturing company wants to **predict machine failures** before they happen to reduce downtime and maintenance costs. We will use **sensor data** (e.g., temperature, vibration, pressure) and apply **Random Forest** to classify whether a machine will fail soon.  \n"
   ]
  },
  {
   "cell_type": "markdown",
   "id": "6a632ed7",
   "metadata": {},
   "source": [
    "### **Import Libraries**"
   ]
  },
  {
   "cell_type": "code",
   "execution_count": 1,
   "id": "8db07c4d",
   "metadata": {},
   "outputs": [],
   "source": [
    "import pandas as pd\n",
    "import numpy as np\n",
    "import matplotlib.pyplot as plt\n",
    "import seaborn as sns\n",
    "from sklearn.model_selection import train_test_split\n",
    "from sklearn.ensemble import RandomForestClassifier\n",
    "from sklearn.metrics import accuracy_score, classification_report, confusion_matrix"
   ]
  },
  {
   "cell_type": "markdown",
   "id": "56e47a01",
   "metadata": {},
   "source": [
    "### **Load Sample Data**"
   ]
  },
  {
   "cell_type": "code",
   "execution_count": 2,
   "id": "03022d55",
   "metadata": {},
   "outputs": [
    {
     "name": "stdout",
     "output_type": "stream",
     "text": [
      "   temperature  vibration  pressure  failure\n",
      "0           68          2        77        0\n",
      "1           82          1        56        0\n",
      "2           86          2        48        0\n",
      "3           64          9        63        0\n",
      "4          109          9        35        1\n"
     ]
    }
   ],
   "source": [
    "# Simulated sensor data (temperature, vibration, pressure, and failure status)\n",
    "data = {\n",
    "    'temperature': np.random.randint(50, 120, 200),\n",
    "    'vibration': np.random.randint(1, 10, 200),\n",
    "    'pressure': np.random.randint(30, 80, 200),\n",
    "    'failure': np.random.choice([0, 1], size=200, p=[0.85, 0.15])  # 15% failure rate\n",
    "}\n",
    "\n",
    "df = pd.DataFrame(data)\n",
    "print(df.head())"
   ]
  },
  {
   "cell_type": "markdown",
   "id": "d58ce3a3",
   "metadata": {},
   "source": [
    "### **Prepare Data for Training**"
   ]
  },
  {
   "cell_type": "code",
   "execution_count": 3,
   "id": "6edcdbd3",
   "metadata": {},
   "outputs": [],
   "source": [
    "X = df[['temperature', 'vibration', 'pressure']]\n",
    "y = df['failure']\n",
    "\n",
    "X_train, X_test, y_train, y_test = train_test_split(X, y, test_size=0.2, random_state=42)"
   ]
  },
  {
   "cell_type": "markdown",
   "id": "bad4d8cf",
   "metadata": {},
   "source": [
    "### **Train a Random Forest Model**"
   ]
  },
  {
   "cell_type": "code",
   "execution_count": 4,
   "id": "672ee025",
   "metadata": {},
   "outputs": [
    {
     "data": {
      "text/html": [
       "<style>#sk-container-id-1 {color: black;}#sk-container-id-1 pre{padding: 0;}#sk-container-id-1 div.sk-toggleable {background-color: white;}#sk-container-id-1 label.sk-toggleable__label {cursor: pointer;display: block;width: 100%;margin-bottom: 0;padding: 0.3em;box-sizing: border-box;text-align: center;}#sk-container-id-1 label.sk-toggleable__label-arrow:before {content: \"▸\";float: left;margin-right: 0.25em;color: #696969;}#sk-container-id-1 label.sk-toggleable__label-arrow:hover:before {color: black;}#sk-container-id-1 div.sk-estimator:hover label.sk-toggleable__label-arrow:before {color: black;}#sk-container-id-1 div.sk-toggleable__content {max-height: 0;max-width: 0;overflow: hidden;text-align: left;background-color: #f0f8ff;}#sk-container-id-1 div.sk-toggleable__content pre {margin: 0.2em;color: black;border-radius: 0.25em;background-color: #f0f8ff;}#sk-container-id-1 input.sk-toggleable__control:checked~div.sk-toggleable__content {max-height: 200px;max-width: 100%;overflow: auto;}#sk-container-id-1 input.sk-toggleable__control:checked~label.sk-toggleable__label-arrow:before {content: \"▾\";}#sk-container-id-1 div.sk-estimator input.sk-toggleable__control:checked~label.sk-toggleable__label {background-color: #d4ebff;}#sk-container-id-1 div.sk-label input.sk-toggleable__control:checked~label.sk-toggleable__label {background-color: #d4ebff;}#sk-container-id-1 input.sk-hidden--visually {border: 0;clip: rect(1px 1px 1px 1px);clip: rect(1px, 1px, 1px, 1px);height: 1px;margin: -1px;overflow: hidden;padding: 0;position: absolute;width: 1px;}#sk-container-id-1 div.sk-estimator {font-family: monospace;background-color: #f0f8ff;border: 1px dotted black;border-radius: 0.25em;box-sizing: border-box;margin-bottom: 0.5em;}#sk-container-id-1 div.sk-estimator:hover {background-color: #d4ebff;}#sk-container-id-1 div.sk-parallel-item::after {content: \"\";width: 100%;border-bottom: 1px solid gray;flex-grow: 1;}#sk-container-id-1 div.sk-label:hover label.sk-toggleable__label {background-color: #d4ebff;}#sk-container-id-1 div.sk-serial::before {content: \"\";position: absolute;border-left: 1px solid gray;box-sizing: border-box;top: 0;bottom: 0;left: 50%;z-index: 0;}#sk-container-id-1 div.sk-serial {display: flex;flex-direction: column;align-items: center;background-color: white;padding-right: 0.2em;padding-left: 0.2em;position: relative;}#sk-container-id-1 div.sk-item {position: relative;z-index: 1;}#sk-container-id-1 div.sk-parallel {display: flex;align-items: stretch;justify-content: center;background-color: white;position: relative;}#sk-container-id-1 div.sk-item::before, #sk-container-id-1 div.sk-parallel-item::before {content: \"\";position: absolute;border-left: 1px solid gray;box-sizing: border-box;top: 0;bottom: 0;left: 50%;z-index: -1;}#sk-container-id-1 div.sk-parallel-item {display: flex;flex-direction: column;z-index: 1;position: relative;background-color: white;}#sk-container-id-1 div.sk-parallel-item:first-child::after {align-self: flex-end;width: 50%;}#sk-container-id-1 div.sk-parallel-item:last-child::after {align-self: flex-start;width: 50%;}#sk-container-id-1 div.sk-parallel-item:only-child::after {width: 0;}#sk-container-id-1 div.sk-dashed-wrapped {border: 1px dashed gray;margin: 0 0.4em 0.5em 0.4em;box-sizing: border-box;padding-bottom: 0.4em;background-color: white;}#sk-container-id-1 div.sk-label label {font-family: monospace;font-weight: bold;display: inline-block;line-height: 1.2em;}#sk-container-id-1 div.sk-label-container {text-align: center;}#sk-container-id-1 div.sk-container {/* jupyter's `normalize.less` sets `[hidden] { display: none; }` but bootstrap.min.css set `[hidden] { display: none !important; }` so we also need the `!important` here to be able to override the default hidden behavior on the sphinx rendered scikit-learn.org. See: https://github.com/scikit-learn/scikit-learn/issues/21755 */display: inline-block !important;position: relative;}#sk-container-id-1 div.sk-text-repr-fallback {display: none;}</style><div id=\"sk-container-id-1\" class=\"sk-top-container\"><div class=\"sk-text-repr-fallback\"><pre>RandomForestClassifier(random_state=42)</pre><b>In a Jupyter environment, please rerun this cell to show the HTML representation or trust the notebook. <br />On GitHub, the HTML representation is unable to render, please try loading this page with nbviewer.org.</b></div><div class=\"sk-container\" hidden><div class=\"sk-item\"><div class=\"sk-estimator sk-toggleable\"><input class=\"sk-toggleable__control sk-hidden--visually\" id=\"sk-estimator-id-1\" type=\"checkbox\" checked><label for=\"sk-estimator-id-1\" class=\"sk-toggleable__label sk-toggleable__label-arrow\">RandomForestClassifier</label><div class=\"sk-toggleable__content\"><pre>RandomForestClassifier(random_state=42)</pre></div></div></div></div></div>"
      ],
      "text/plain": [
       "RandomForestClassifier(random_state=42)"
      ]
     },
     "execution_count": 4,
     "metadata": {},
     "output_type": "execute_result"
    }
   ],
   "source": [
    "model = RandomForestClassifier(n_estimators=100, random_state=42)\n",
    "model.fit(X_train, y_train)"
   ]
  },
  {
   "cell_type": "markdown",
   "id": "06ce0215",
   "metadata": {},
   "source": [
    "### **Make Predictions & Evaluate**"
   ]
  },
  {
   "cell_type": "code",
   "execution_count": 5,
   "id": "66db5d80",
   "metadata": {},
   "outputs": [
    {
     "name": "stdout",
     "output_type": "stream",
     "text": [
      "Accuracy: 0.8\n",
      "Classification Report:\n",
      "               precision    recall  f1-score   support\n",
      "\n",
      "           0       0.84      0.94      0.89        34\n",
      "           1       0.00      0.00      0.00         6\n",
      "\n",
      "    accuracy                           0.80        40\n",
      "   macro avg       0.42      0.47      0.44        40\n",
      "weighted avg       0.72      0.80      0.76        40\n",
      "\n"
     ]
    }
   ],
   "source": [
    "y_pred = model.predict(X_test)\n",
    "\n",
    "print(\"Accuracy:\", accuracy_score(y_test, y_pred))\n",
    "print(\"Classification Report:\\n\", classification_report(y_test, y_pred))"
   ]
  },
  {
   "cell_type": "markdown",
   "id": "acdfbfdd",
   "metadata": {},
   "source": [
    "# Confusion Matrix"
   ]
  },
  {
   "cell_type": "code",
   "execution_count": 6,
   "id": "b1191366",
   "metadata": {},
   "outputs": [
    {
     "data": {
      "image/png": "[encoded data removed]",
      "text/plain": [
       "<Figure size 640x480 with 2 Axes>"
      ]
     },
     "metadata": {},
     "output_type": "display_data"
    }
   ],
   "source": [
    "sns.heatmap(confusion_matrix(y_test, y_pred), annot=True, fmt='d', cmap=\"Blues\")\n",
    "plt.xlabel('Predicted')\n",
    "plt.ylabel('Actual')\n",
    "plt.title('Confusion Matrix')\n",
    "plt.show()"
   ]
  },
  {
   "cell_type": "markdown",
   "id": "5dd4c42b",
   "metadata": {},
   "source": [
    "### **Results & Business Impact**"
   ]
  },
  {
   "cell_type": "markdown",
   "id": "125f60ca",
   "metadata": {},
   "source": [
    "- The model predicts **whether a machine is likely to fail soon** based on sensor data.  \n",
    "- **High accuracy** means the company can proactively schedule maintenance, reducing unplanned downtime.  \n",
    "- **Cost savings**: This approach prevents expensive failures, improving operational efficiency. "
   ]
  },
  {
   "cell_type": "markdown",
   "id": "7fc00a22",
   "metadata": {},
   "source": [
    "## Let's enhance the scenario with time series forecasting using the Prophet library to predict machine failure probability over time."
   ]
  },
  {
   "cell_type": "markdown",
   "id": "5e5f25dc",
   "metadata": {},
   "source": [
    "### import the necessary libraries:"
   ]
  },
  {
   "cell_type": "code",
   "execution_count": 9,
   "id": "474d6ef7",
   "metadata": {},
   "outputs": [
    {
     "name": "stdout",
     "output_type": "stream",
     "text": [
      "Collecting prophet\n",
      "  Obtaining dependency information for prophet from https://files.pythonhosted.org/packages/12/ff/a04156f4ca3d18bd005c73f79e86e0684346fbc2aea856429c3e49f2828e/prophet-1.1.6-py3-none-win_amd64.whl.metadata\n",
      "  Downloading prophet-1.1.6-py3-none-win_amd64.whl.metadata (3.6 kB)\n",
      "Collecting cmdstanpy>=1.0.4 (from prophet)\n",
      "  Obtaining dependency information for cmdstanpy>=1.0.4 from https://files.pythonhosted.org/packages/2a/80/04b3989f055e555737b3b6944f02112e90cfc4f2e53c763771dded22e684/cmdstanpy-1.2.5-py3-none-any.whl.metadata\n",
      "  Downloading cmdstanpy-1.2.5-py3-none-any.whl.metadata (4.0 kB)\n",
      "Requirement already satisfied: numpy>=1.15.4 in c:\\users\\jemae\\anaconda_jupyter\\lib\\site-packages (from prophet) (1.24.3)\n",
      "Requirement already satisfied: matplotlib>=2.0.0 in c:\\users\\jemae\\anaconda_jupyter\\lib\\site-packages (from prophet) (3.7.2)\n",
      "Requirement already satisfied: pandas>=1.0.4 in c:\\users\\jemae\\anaconda_jupyter\\lib\\site-packages (from prophet) (2.0.3)\n",
      "Collecting holidays<1,>=0.25 (from prophet)\n",
      "  Obtaining dependency information for holidays<1,>=0.25 from https://files.pythonhosted.org/packages/3c/1c/9e3fc8b8d4f2361b423e726732fcbb81f8817c7399a94d25296fc668586a/holidays-0.69-py3-none-any.whl.metadata\n",
      "  Downloading holidays-0.69-py3-none-any.whl.metadata (28 kB)\n",
      "Requirement already satisfied: tqdm>=4.36.1 in c:\\users\\jemae\\anaconda_jupyter\\lib\\site-packages (from prophet) (4.65.0)\n",
      "Collecting importlib-resources (from prophet)\n",
      "  Obtaining dependency information for importlib-resources from https://files.pythonhosted.org/packages/a4/ed/1f1afb2e9e7f38a545d628f864d562a5ae64fe6f7a10e28ffb9b185b4e89/importlib_resources-6.5.2-py3-none-any.whl.metadata\n",
      "  Downloading importlib_resources-6.5.2-py3-none-any.whl.metadata (3.9 kB)\n",
      "Collecting stanio<2.0.0,>=0.4.0 (from cmdstanpy>=1.0.4->prophet)\n",
      "  Obtaining dependency information for stanio<2.0.0,>=0.4.0 from https://files.pythonhosted.org/packages/56/87/37a80e4d5bd453c33262d8fb618b6840fd98d24ed08e046a4a9b10177fa3/stanio-0.5.1-py3-none-any.whl.metadata\n",
      "  Downloading stanio-0.5.1-py3-none-any.whl.metadata (1.6 kB)\n",
      "Requirement already satisfied: python-dateutil in c:\\users\\jemae\\anaconda_jupyter\\lib\\site-packages (from holidays<1,>=0.25->prophet) (2.8.2)\n",
      "Requirement already satisfied: contourpy>=1.0.1 in c:\\users\\jemae\\anaconda_jupyter\\lib\\site-packages (from matplotlib>=2.0.0->prophet) (1.0.5)\n",
      "Requirement already satisfied: cycler>=0.10 in c:\\users\\jemae\\anaconda_jupyter\\lib\\site-packages (from matplotlib>=2.0.0->prophet) (0.11.0)\n",
      "Requirement already satisfied: fonttools>=4.22.0 in c:\\users\\jemae\\anaconda_jupyter\\lib\\site-packages (from matplotlib>=2.0.0->prophet) (4.25.0)\n",
      "Requirement already satisfied: kiwisolver>=1.0.1 in c:\\users\\jemae\\anaconda_jupyter\\lib\\site-packages (from matplotlib>=2.0.0->prophet) (1.4.4)\n",
      "Requirement already satisfied: packaging>=20.0 in c:\\users\\jemae\\anaconda_jupyter\\lib\\site-packages (from matplotlib>=2.0.0->prophet) (23.1)\n",
      "Requirement already satisfied: pillow>=6.2.0 in c:\\users\\jemae\\anaconda_jupyter\\lib\\site-packages (from matplotlib>=2.0.0->prophet) (9.4.0)\n",
      "Requirement already satisfied: pyparsing<3.1,>=2.3.1 in c:\\users\\jemae\\anaconda_jupyter\\lib\\site-packages (from matplotlib>=2.0.0->prophet) (3.0.9)\n",
      "Requirement already satisfied: pytz>=2020.1 in c:\\users\\jemae\\anaconda_jupyter\\lib\\site-packages (from pandas>=1.0.4->prophet) (2023.3.post1)\n",
      "Requirement already satisfied: tzdata>=2022.1 in c:\\users\\jemae\\anaconda_jupyter\\lib\\site-packages (from pandas>=1.0.4->prophet) (2023.3)\n",
      "Requirement already satisfied: colorama in c:\\users\\jemae\\anaconda_jupyter\\lib\\site-packages (from tqdm>=4.36.1->prophet) (0.4.6)\n",
      "Requirement already satisfied: six>=1.5 in c:\\users\\jemae\\anaconda_jupyter\\lib\\site-packages (from python-dateutil->holidays<1,>=0.25->prophet) (1.16.0)\n",
      "Downloading prophet-1.1.6-py3-none-win_amd64.whl (13.3 MB)\n",
      "   ---------------------------------------- 0.0/13.3 MB ? eta -:--:--\n",
      "   ---------------------------------------- 0.1/13.3 MB 1.1 MB/s eta 0:00:13\n",
      "   ---------------------------------------- 0.1/13.3 MB 1.2 MB/s eta 0:00:12\n",
      "   - -------------------------------------- 0.4/13.3 MB 2.5 MB/s eta 0:00:06\n",
      "   - -------------------------------------- 0.6/13.3 MB 3.1 MB/s eta 0:00:05\n",
      "   -- ------------------------------------- 0.8/13.3 MB 3.4 MB/s eta 0:00:04\n",
      "   --- ------------------------------------ 1.0/13.3 MB 3.6 MB/s eta 0:00:04\n",
      "   --- ------------------------------------ 1.2/13.3 MB 3.7 MB/s eta 0:00:04\n",
      "   ---- ----------------------------------- 1.4/13.3 MB 3.9 MB/s eta 0:00:04\n",
      "   ---- ----------------------------------- 1.5/13.3 MB 3.6 MB/s eta 0:00:04\n",
      "   ----- ---------------------------------- 1.8/13.3 MB 3.9 MB/s eta 0:00:03\n",
      "   ----- ---------------------------------- 1.9/13.3 MB 3.7 MB/s eta 0:00:04\n",
      "   ------- -------------------------------- 2.3/13.3 MB 4.0 MB/s eta 0:00:03\n",
      "   -------- ------------------------------- 2.7/13.3 MB 4.5 MB/s eta 0:00:03\n",
      "   --------- ------------------------------ 3.2/13.3 MB 4.7 MB/s eta 0:00:03\n",
      "   ---------- ----------------------------- 3.5/13.3 MB 4.9 MB/s eta 0:00:02\n",
      "   ----------- ---------------------------- 3.9/13.3 MB 5.1 MB/s eta 0:00:02\n",
      "   ------------- -------------------------- 4.4/13.3 MB 5.5 MB/s eta 0:00:02\n",
      "   -------------- ------------------------- 4.9/13.3 MB 5.8 MB/s eta 0:00:02\n",
      "   -------------- ------------------------- 4.9/13.3 MB 5.8 MB/s eta 0:00:02\n",
      "   -------------- ------------------------- 5.0/13.3 MB 5.2 MB/s eta 0:00:02\n",
      "   ---------------- ----------------------- 5.6/13.3 MB 5.6 MB/s eta 0:00:02\n",
      "   ------------------ --------------------- 6.0/13.3 MB 5.7 MB/s eta 0:00:02\n",
      "   ------------------ --------------------- 6.0/13.3 MB 5.7 MB/s eta 0:00:02\n",
      "   ------------------ --------------------- 6.2/13.3 MB 5.4 MB/s eta 0:00:02\n",
      "   ------------------- -------------------- 6.3/13.3 MB 5.3 MB/s eta 0:00:02\n",
      "   ------------------- -------------------- 6.5/13.3 MB 5.4 MB/s eta 0:00:02\n",
      "   -------------------- ------------------- 6.7/13.3 MB 5.2 MB/s eta 0:00:02\n",
      "   -------------------- ------------------- 6.8/13.3 MB 5.1 MB/s eta 0:00:02\n",
      "   -------------------- ------------------- 6.9/13.3 MB 5.1 MB/s eta 0:00:02\n",
      "   -------------------- ------------------- 7.0/13.3 MB 4.9 MB/s eta 0:00:02\n",
      "   --------------------- ------------------ 7.2/13.3 MB 4.9 MB/s eta 0:00:02\n",
      "   --------------------- ------------------ 7.3/13.3 MB 4.8 MB/s eta 0:00:02\n",
      "   ---------------------- ----------------- 7.4/13.3 MB 4.7 MB/s eta 0:00:02\n",
      "   ---------------------- ----------------- 7.5/13.3 MB 4.6 MB/s eta 0:00:02\n",
      "   ---------------------- ----------------- 7.6/13.3 MB 4.6 MB/s eta 0:00:02\n",
      "   ----------------------- ---------------- 7.9/13.3 MB 4.6 MB/s eta 0:00:02\n",
      "   ------------------------ --------------- 8.0/13.3 MB 4.5 MB/s eta 0:00:02\n",
      "   ------------------------ --------------- 8.1/13.3 MB 4.5 MB/s eta 0:00:02\n",
      "   ------------------------ --------------- 8.3/13.3 MB 4.4 MB/s eta 0:00:02\n",
      "   ------------------------- -------------- 8.4/13.3 MB 4.4 MB/s eta 0:00:02\n",
      "   ------------------------- -------------- 8.6/13.3 MB 4.4 MB/s eta 0:00:02\n",
      "   -------------------------- ------------- 8.7/13.3 MB 4.4 MB/s eta 0:00:02\n",
      "   -------------------------- ------------- 8.9/13.3 MB 4.3 MB/s eta 0:00:02\n",
      "   --------------------------- ------------ 9.1/13.3 MB 4.3 MB/s eta 0:00:01\n",
      "   --------------------------- ------------ 9.2/13.3 MB 4.3 MB/s eta 0:00:01\n",
      "   ---------------------------- ----------- 9.4/13.3 MB 4.3 MB/s eta 0:00:01\n",
      "   ---------------------------- ----------- 9.5/13.3 MB 4.3 MB/s eta 0:00:01\n",
      "   ---------------------------- ----------- 9.6/13.3 MB 4.2 MB/s eta 0:00:01\n",
      "   ----------------------------- ---------- 9.7/13.3 MB 4.2 MB/s eta 0:00:01\n",
      "   ----------------------------- ---------- 9.8/13.3 MB 4.1 MB/s eta 0:00:01\n",
      "   ----------------------------- ---------- 9.9/13.3 MB 4.1 MB/s eta 0:00:01\n",
      "   ------------------------------ --------- 10.1/13.3 MB 4.1 MB/s eta 0:00:01\n",
      "   ------------------------------ --------- 10.2/13.3 MB 4.0 MB/s eta 0:00:01\n",
      "   ------------------------------ --------- 10.3/13.3 MB 4.0 MB/s eta 0:00:01\n",
      "   ------------------------------- -------- 10.4/13.3 MB 4.0 MB/s eta 0:00:01\n",
      "   ------------------------------- -------- 10.5/13.3 MB 4.0 MB/s eta 0:00:01\n",
      "   -------------------------------- ------- 10.7/13.3 MB 4.0 MB/s eta 0:00:01\n",
      "   -------------------------------- ------- 10.8/13.3 MB 4.0 MB/s eta 0:00:01\n",
      "   -------------------------------- ------- 10.9/13.3 MB 3.9 MB/s eta 0:00:01\n",
      "   --------------------------------- ------ 11.0/13.3 MB 3.9 MB/s eta 0:00:01\n",
      "   --------------------------------- ------ 11.1/13.3 MB 3.9 MB/s eta 0:00:01\n",
      "   --------------------------------- ------ 11.2/13.3 MB 3.8 MB/s eta 0:00:01\n",
      "   --------------------------------- ------ 11.2/13.3 MB 3.8 MB/s eta 0:00:01\n",
      "   --------------------------------- ------ 11.2/13.3 MB 3.8 MB/s eta 0:00:01\n",
      "   --------------------------------- ------ 11.2/13.3 MB 3.8 MB/s eta 0:00:01\n",
      "   --------------------------------- ------ 11.2/13.3 MB 3.8 MB/s eta 0:00:01\n",
      "   --------------------------------- ------ 11.2/13.3 MB 3.8 MB/s eta 0:00:01\n",
      "   --------------------------------- ------ 11.2/13.3 MB 3.8 MB/s eta 0:00:01\n",
      "   --------------------------------- ------ 11.2/13.3 MB 3.4 MB/s eta 0:00:01\n",
      "   --------------------------------- ------ 11.2/13.3 MB 3.4 MB/s eta 0:00:01\n",
      "   --------------------------------- ------ 11.2/13.3 MB 3.3 MB/s eta 0:00:01\n",
      "   --------------------------------- ------ 11.3/13.3 MB 3.3 MB/s eta 0:00:01\n",
      "   --------------------------------- ------ 11.3/13.3 MB 3.2 MB/s eta 0:00:01\n",
      "   ---------------------------------- ----- 11.3/13.3 MB 3.1 MB/s eta 0:00:01\n",
      "   ---------------------------------- ----- 11.3/13.3 MB 3.1 MB/s eta 0:00:01\n",
      "   ---------------------------------- ----- 11.3/13.3 MB 3.1 MB/s eta 0:00:01\n",
      "   ---------------------------------- ----- 11.3/13.3 MB 3.1 MB/s eta 0:00:01\n",
      "   ---------------------------------- ----- 11.3/13.3 MB 3.1 MB/s eta 0:00:01\n",
      "   ---------------------------------- ----- 11.3/13.3 MB 3.1 MB/s eta 0:00:01\n",
      "   ---------------------------------- ----- 11.3/13.3 MB 3.1 MB/s eta 0:00:01\n",
      "   ---------------------------------- ----- 11.3/13.3 MB 3.1 MB/s eta 0:00:01\n",
      "   ---------------------------------- ----- 11.3/13.3 MB 3.1 MB/s eta 0:00:01\n",
      "   ---------------------------------- ----- 11.4/13.3 MB 2.8 MB/s eta 0:00:01\n",
      "   ---------------------------------- ----- 11.4/13.3 MB 2.8 MB/s eta 0:00:01\n",
      "   ---------------------------------- ----- 11.5/13.3 MB 2.8 MB/s eta 0:00:01\n",
      "   ---------------------------------- ----- 11.5/13.3 MB 2.7 MB/s eta 0:00:01\n",
      "   ---------------------------------- ----- 11.6/13.3 MB 2.7 MB/s eta 0:00:01\n",
      "   ----------------------------------- ---- 11.8/13.3 MB 2.7 MB/s eta 0:00:01\n",
      "   ----------------------------------- ---- 11.9/13.3 MB 2.7 MB/s eta 0:00:01\n",
      "   ----------------------------------- ---- 12.0/13.3 MB 2.6 MB/s eta 0:00:01\n",
      "   ------------------------------------ --- 12.1/13.3 MB 2.7 MB/s eta 0:00:01\n",
      "   ------------------------------------ --- 12.2/13.3 MB 2.6 MB/s eta 0:00:01\n",
      "   ------------------------------------ --- 12.3/13.3 MB 2.6 MB/s eta 0:00:01\n",
      "   ------------------------------------- -- 12.4/13.3 MB 2.6 MB/s eta 0:00:01\n",
      "   ------------------------------------- -- 12.5/13.3 MB 2.6 MB/s eta 0:00:01\n",
      "   ------------------------------------- -- 12.5/13.3 MB 2.6 MB/s eta 0:00:01\n",
      "   ------------------------------------- -- 12.5/13.3 MB 2.6 MB/s eta 0:00:01\n",
      "   ------------------------------------- -- 12.5/13.3 MB 2.6 MB/s eta 0:00:01\n",
      "   ------------------------------------- -- 12.6/13.3 MB 2.5 MB/s eta 0:00:01\n",
      "   ------------------------------------- -- 12.6/13.3 MB 2.5 MB/s eta 0:00:01\n",
      "   -------------------------------------- - 12.7/13.3 MB 2.4 MB/s eta 0:00:01\n",
      "   -------------------------------------- - 12.8/13.3 MB 2.4 MB/s eta 0:00:01\n",
      "   -------------------------------------- - 12.9/13.3 MB 2.4 MB/s eta 0:00:01\n",
      "   -------------------------------------- - 13.0/13.3 MB 2.4 MB/s eta 0:00:01\n",
      "   ---------------------------------------  13.0/13.3 MB 2.4 MB/s eta 0:00:01\n",
      "   ---------------------------------------  13.1/13.3 MB 2.4 MB/s eta 0:00:01\n",
      "   ---------------------------------------  13.2/13.3 MB 2.3 MB/s eta 0:00:01\n",
      "   ---------------------------------------  13.3/13.3 MB 2.3 MB/s eta 0:00:01\n",
      "   ---------------------------------------  13.3/13.3 MB 2.3 MB/s eta 0:00:01\n",
      "   ---------------------------------------- 13.3/13.3 MB 2.3 MB/s eta 0:00:00\n",
      "Downloading cmdstanpy-1.2.5-py3-none-any.whl (94 kB)\n",
      "   ---------------------------------------- 0.0/94.5 kB ? eta -:--:--\n",
      "   ---------------------------------------  92.2/94.5 kB 5.5 MB/s eta 0:00:01\n",
      "   ---------------------------------------- 94.5/94.5 kB 2.7 MB/s eta 0:00:00\n",
      "Downloading holidays-0.69-py3-none-any.whl (863 kB)\n",
      "   ---------------------------------------- 0.0/863.9 kB ? eta -:--:--\n",
      "   ------ --------------------------------- 143.4/863.9 kB 4.3 MB/s eta 0:00:01\n",
      "   ------------ --------------------------- 276.5/863.9 kB 2.8 MB/s eta 0:00:01\n",
      "   ----------------- ---------------------- 368.6/863.9 kB 2.9 MB/s eta 0:00:01\n",
      "   -------------------- ------------------- 450.6/863.9 kB 2.6 MB/s eta 0:00:01\n",
      "   ------------------------ --------------- 522.2/863.9 kB 2.5 MB/s eta 0:00:01\n",
      "   ----------------------------- ---------- 634.9/863.9 kB 2.5 MB/s eta 0:00:01\n",
      "   ----------------------------------- ---- 768.0/863.9 kB 2.6 MB/s eta 0:00:01\n",
      "   ---------------------------------------  860.2/863.9 kB 2.6 MB/s eta 0:00:01\n",
      "   ---------------------------------------- 863.9/863.9 kB 2.3 MB/s eta 0:00:00\n",
      "Using cached importlib_resources-6.5.2-py3-none-any.whl (37 kB)\n",
      "Downloading stanio-0.5.1-py3-none-any.whl (8.1 kB)\n",
      "Installing collected packages: stanio, importlib-resources, holidays, cmdstanpy, prophet\n",
      "Successfully installed cmdstanpy-1.2.5 holidays-0.69 importlib-resources-6.5.2 prophet-1.1.6 stanio-0.5.1\n"
     ]
    }
   ],
   "source": [
    "!pip install prophet\n",
    "\n",
    "from prophet import Prophet"
   ]
  },
  {
   "cell_type": "code",
   "execution_count": null,
   "id": "ffe92365",
   "metadata": {},
   "outputs": [],
   "source": []
  },
  {
   "cell_type": "code",
   "execution_count": null,
   "id": "256a43eb",
   "metadata": {},
   "outputs": [],
   "source": [
    "Simulate Time Series Sensor Data\n",
    "We'll generate daily sensor readings with increasing failure probability."
   ]
  },
  {
   "cell_type": "code",
   "execution_count": 10,
   "id": "4a5fd4c7",
   "metadata": {},
   "outputs": [
    {
     "name": "stdout",
     "output_type": "stream",
     "text": [
      "          ds  failure_rate\n",
      "0 2024-01-01      0.044982\n",
      "1 2024-01-02      0.071564\n",
      "2 2024-01-03      0.066350\n",
      "3 2024-01-04      0.064552\n",
      "4 2024-01-05      0.050382\n"
     ]
    }
   ],
   "source": [
    "# Generate synthetic time series data\n",
    "np.random.seed(42)\n",
    "date_rng = pd.date_range(start=\"2024-01-01\", periods=100, freq='D')\n",
    "\n",
    "data = {\n",
    "    'ds': date_rng,  # Prophet requires date column named 'ds'\n",
    "    'failure_rate': np.linspace(0.05, 0.4, 100) + np.random.uniform(-0.02, 0.02, 100)  # Failure probability trend\n",
    "}\n",
    "\n",
    "df = pd.DataFrame(data)\n",
    "print(df.head())\n"
   ]
  },
  {
   "cell_type": "markdown",
   "id": "22c0f71d",
   "metadata": {},
   "source": [
    "## Train a Prophet Model"
   ]
  },
  {
   "cell_type": "code",
   "execution_count": 14,
   "id": "6501351f",
   "metadata": {},
   "outputs": [
    {
     "name": "stderr",
     "output_type": "stream",
     "text": [
      "11:09:32 - cmdstanpy - INFO - Chain [1] start processing\n",
      "11:09:32 - cmdstanpy - INFO - Chain [1] done processing\n"
     ]
    },
    {
     "data": {
      "text/plain": [
       "<prophet.forecaster.Prophet at 0x1d03ce272d0>"
      ]
     },
     "execution_count": 14,
     "metadata": {},
     "output_type": "execute_result"
    }
   ],
   "source": [
    "# Sample dataset (Ensure your dataset follows this format)\n",
    "df = pd.DataFrame({\n",
    "    'ds': pd.date_range(start='2023-01-01', periods=10, freq='D'),  # Date column\n",
    "    'y': [10, 12, 15, 18, 20, 23, 25, 28, 30, 33]  # Target variable\n",
    "})\n",
    "\n",
    "# Convert 'ds' column to datetime (if not already)\n",
    "df['ds'] = pd.to_datetime(df['ds'])\n",
    "\n",
    "# Initialize and fit Prophet model\n",
    "model = Prophet()\n",
    "model.fit(df)\n"
   ]
  },
  {
   "cell_type": "markdown",
   "id": "343176f4",
   "metadata": {},
   "source": [
    "## Make Future Predictions"
   ]
  },
  {
   "cell_type": "code",
   "execution_count": 15,
   "id": "de6873d9",
   "metadata": {},
   "outputs": [],
   "source": [
    "# Create future dates\n",
    "future = model.make_future_dataframe(periods=30)  # Predict next 30 days\n",
    "forecast = model.predict(future)"
   ]
  },
  {
   "cell_type": "markdown",
   "id": "a0674df4",
   "metadata": {},
   "source": [
    "## Visualize Forecast"
   ]
  },
  {
   "cell_type": "code",
   "execution_count": 16,
   "id": "4ad1aaac",
   "metadata": {},
   "outputs": [
    {
     "data": {
      "image/png": "[encoded data removed]",
      "text/plain": [
       "<Figure size 1000x600 with 1 Axes>"
      ]
     },
     "metadata": {},
     "output_type": "display_data"
    }
   ],
   "source": [
    "# Plot forecast\n",
    "fig = model.plot(forecast)\n",
    "plt.title(\"Predicted Machine Failure Rate Over Time\")\n",
    "plt.xlabel(\"Date\")\n",
    "plt.ylabel(\"Failure Probability\")\n",
    "plt.show()"
   ]
  },
  {
   "cell_type": "markdown",
   "id": "e1d3b6d8",
   "metadata": {},
   "source": [
    "## Insights & Business Impact"
   ]
  },
  {
   "cell_type": "code",
   "execution_count": null,
   "id": "25d20ba7",
   "metadata": {},
   "outputs": [],
   "source": [
    "The model predicts future failure probabilities, allowing proactive maintenance.\n",
    "Maintenance teams can schedule inspections when failure probability increases.\n",
    "Reduces downtime costs and improves reliability in industrial settings."
   ]
  }
 ],
 "metadata": {
  "kernelspec": {
   "display_name": "Python 3 (ipykernel)",
   "language": "python",
   "name": "python3"
  },
  "language_info": {
   "codemirror_mode": {
    "name": "ipython",
    "version": 3
   },
   "file_extension": ".py",
   "mimetype": "text/x-python",
   "name": "python",
   "nbconvert_exporter": "python",
   "pygments_lexer": "ipython3",
   "version": "3.11.5"
  }
 },
 "nbformat": 4,
 "nbformat_minor": 5
}
